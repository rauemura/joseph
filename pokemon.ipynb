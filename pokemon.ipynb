{
 "cells": [
  {
   "cell_type": "code",
   "execution_count": 57,
   "metadata": {
    "collapsed": false
   },
   "outputs": [
    {
     "data": {
      "text/html": [
       "<div>\n",
       "<table border=\"1\" class=\"dataframe\">\n",
       "  <thead>\n",
       "    <tr style=\"text-align: right;\">\n",
       "      <th></th>\n",
       "      <th>A</th>\n",
       "      <th>B</th>\n",
       "    </tr>\n",
       "  </thead>\n",
       "  <tbody>\n",
       "    <tr>\n",
       "      <th>points</th>\n",
       "      <td>100</td>\n",
       "      <td>120.0</td>\n",
       "    </tr>\n",
       "    <tr>\n",
       "      <th>points</th>\n",
       "      <td>100</td>\n",
       "      <td>NaN</td>\n",
       "    </tr>\n",
       "    <tr>\n",
       "      <th>results</th>\n",
       "      <td>120</td>\n",
       "      <td>NaN</td>\n",
       "    </tr>\n",
       "  </tbody>\n",
       "</table>\n",
       "</div>"
      ],
      "text/plain": [
       "           A      B\n",
       "points   100  120.0\n",
       "points   100    NaN\n",
       "results  120    NaN"
      ]
     },
     "execution_count": 57,
     "metadata": {},
     "output_type": "execute_result"
    }
   ],
   "source": [
    "#coding UTF-8\n",
    "import pandas as pd\n",
    "import numpy as np\n",
    "from pandas import Series,DataFrame\n",
    "#df1 = pd.DataFrame([[100,120]],columns=([\"A\",\"B\"]),index=([\"points\"]))\n",
    "#df2 = pd.DataFrame([[100],[120]],columns=([\"A\"]),index=([\"points\",\"results\"]))\n",
    "#df3 = df1.append(df2)\n",
    "#df3\n",
    "#np.array([100,100]).reshape(2,1)"
   ]
  },
  {
   "cell_type": "code",
   "execution_count": 180,
   "metadata": {
    "collapsed": false
   },
   "outputs": [
    {
     "name": "stdout",
     "output_type": "stream",
     "text": [
      "Empty DataFrame\n",
      "Columns: [fero-tye, girugarudo, massibu-n, mimikkyu, rukario]\n",
      "Index: []\n"
     ]
    }
   ],
   "source": [
    "#data = {'a':[0, 1], 'b':[2, 3]}\n",
    "#df = pd.DataFrame(data)\n",
    "pokedict = {\"bomanda\":[7,\"porigon2\",\"yadoran\",\"tekkaguya\",\"parusyen\",\"gaburiasu\",\"kokeko\"],\n",
    "            \"genga\":[7,\"porigon2\",\"burakki\",\"sazandora\",\"fero-tye\",\"gaburiasu\",\"girugarudo\"],\n",
    "            \"gyaradosu\":[6,\"ポリゴン2\",\"エアームド\",\"ジバコイル\",\"コケコ\",\"クワガロン\",\"アシレーヌ\"],\n",
    "            \"tekkaguya\":[10,\"jibakoiru\",\"kokeko\",\"garagara\",\"gaogaen\",\"kuwagaron\",\"ennyu-to\"],\n",
    "            \"fero-tye\":[7,\"mimikkyu\",\"girugarudo\",\"gyaradosu\",\"gaburiasu\",\"gaogaen\",\"garagara\"],\n",
    "            \"kokeko\":[20,\"ガラガラ\",\"フェローチェ\",\"ジバコイル\",\"クワガロン\",\"テテフ\",\"ガブリアス\"],\n",
    "            \"mimikkyu\":[11,\"jibakoiru\",\"girugarudo\",\"gyaradosu\",\"parusyen\",\"tekkaguya\",\"metagurosu\"],\n",
    "            \"meteno\":[0,\"tekkaguya\",\"jibakoiru\",\"kokeko\",\"mimikkyu\",\"rehire\",\"tetehu\"],\n",
    "            \"massibu-n\":[7,\"bomanda\",\"tetehu\",\"tekkaguya\",\"mimikkyu\",\"kokeko\",\"gyaradosu\"],\n",
    "            \"uturoid\":[10,\"girugarudo\",\"tekkaguya\",\"gaburiasu\",\"jibakoiru\",\"metagurosu\",\"eamudo\"],\n",
    "            \"garagara\":[6,\"rehire\",\"genga\",\"gaogaen\",\"uturoid\",\"gaburiasu\",\"asire-nu\"],\n",
    "            \"tetehu\":[9,\"girugarudo\",\"rukario\",\"jibakoiru\",\"metagurosu\",\"genga\",\"bururu\"],\n",
    "            \"gusokumusya\":[6,\"kokeko\",\"jibakoiru\",\"kuwagaron\",\"uturoid\",\"meteno\",\"denjumoku\"],\n",
    "            \"asire-nu\":[6,\"kokeko\",\"jibakoiru\",\"garu-ra\",\"bomanda\",\"girugarudo\",\"tekkaguya\"],\n",
    "            \"gaburiasu\":[7,\"テッカグヤ\",\"ポリゴン2\",\"マンムー\",\"テテフ\",\"ガブリアス\",\"ミミッキュ\"],\n",
    "            \"girugarudo\":[17,\"gyaradosu\",\"gaogaen\",\"garagara\",\"gaburiasu\",\"kabigon\",\"megagenga\"],\n",
    "            \"sazandora\":[5,\"kokeko\",\"mimikyu\",\"gaburiasu\",\"tetehu\",\"bururu\",\"rehire\"],\n",
    "            \"denjumoku\":[11,\"gaburiasu\",\"garagara\",\"kokeko\",\"jibakoiru\",\"kuwagaron\",\"kapubururu\"],\n",
    "            \"rukario\":[5,\"girugarudo\",\"manmu\",\"gaburiasu\",\"bomanda\",\"megayadoran\",\"gyaradosu\"]}\n",
    "\n",
    "pokemon = DataFrame(pokedict)\n",
    "pokemon.index = [\"Frequency\",1,2,3,4,5,6]\n",
    "pokemon = pokemon.drop(\"Frequency\")\n",
    "\n",
    "def weaks(poke):\n",
    "    return pokemon[poke]\n",
    "\n",
    "#ギルガルドが対応できるポケモンを一覧する。\n",
    "def roles(poke):\n",
    "    pokerole = pokemon == poke\n",
    "    for i in list(pokemon.columns):\n",
    "        if (list(pokerole[i])) == [False,False,False,False,False,False]:\n",
    "            pokerole = pokerole.drop(i,axis=1) #全てNaNの列を消す。\n",
    "        else:\n",
    "            pass\n",
    "    pokerole = pokerole[rolegiru == True]\n",
    "    pokerole = pokerole.dropna()\n",
    "    return pokerole\n",
    "\n",
    "\"\"\"weeks(\"tetehu\")\n",
    "pokerole = pokemon == \"porigon2\"\n",
    "list(pokemon.columns)\n",
    "list(pokerole[\"asire-nu\"])\n",
    "\"\"\"\n",
    "print(roles(\"gyaradosu\"))\n",
    "\n",
    "\n",
    "\n",
    "\n",
    "    \n",
    "# boolのDataFrameを作る　df > 12\n",
    "# boolのDataFrameで選択　df[df > 12]\n"
   ]
  },
  {
   "cell_type": "code",
   "execution_count": 176,
   "metadata": {
    "collapsed": false
   },
   "outputs": [
    {
     "name": "stdout",
     "output_type": "stream",
     "text": [
      "Empty DataFrame\n",
      "Columns: [fero-tye, girugarudo, massibu-n, mimikkyu, rukario]\n",
      "Index: []\n",
      "Empty DataFrame\n",
      "Columns: [bomanda, denjumoku, fero-tye, gaburiasu, garagara, genga, girugarudo, kokeko, rukario, sazandora, uturoid]\n",
      "Index: []\n",
      "Empty DataFrame\n",
      "Columns: [asire-nu, bomanda, denjumoku, gusokumusya, gyaradosu, massibu-n, meteno, sazandora, tekkaguya]\n",
      "Index: []\n",
      "Empty DataFrame\n",
      "Columns: [fero-tye, garagara, girugarudo, tekkaguya]\n",
      "Index: []\n"
     ]
    }
   ],
   "source": [
    "print(roles(\"gyaradosu\"))\n",
    "print(roles(\"gaburiasu\"))\n",
    "print(roles(\"kokeko\"))\n",
    "print(roles(\"gaogaen\"))"
   ]
  },
  {
   "cell_type": "code",
   "execution_count": 181,
   "metadata": {
    "collapsed": false
   },
   "outputs": [
    {
     "name": "stdout",
     "output_type": "stream",
     "text": [
      "1    ポリゴン2\n",
      "2    エアームド\n",
      "3    ジバコイル\n",
      "4      コケコ\n",
      "5    クワガロン\n",
      "6    アシレーヌ\n",
      "Name: gyaradosu, dtype: object\n",
      "1    テッカグヤ\n",
      "2    ポリゴン2\n",
      "3     マンムー\n",
      "4      テテフ\n",
      "5    ガブリアス\n",
      "6    ミミッキュ\n",
      "Name: gaburiasu, dtype: object\n",
      "1      ガラガラ\n",
      "2    フェローチェ\n",
      "3     ジバコイル\n",
      "4     クワガロン\n",
      "5       テテフ\n",
      "6     ガブリアス\n",
      "Name: kokeko, dtype: object\n"
     ]
    },
    {
     "ename": "KeyError",
     "evalue": "'gaogaen'",
     "output_type": "error",
     "traceback": [
      "\u001b[0;31m---------------------------------------------------------------------------\u001b[0m",
      "\u001b[0;31mKeyError\u001b[0m                                  Traceback (most recent call last)",
      "\u001b[0;32mc:\\users\\owner\\appdata\\local\\programs\\python\\python35-32\\lib\\site-packages\\pandas\\indexes\\base.py\u001b[0m in \u001b[0;36mget_loc\u001b[0;34m(self, key, method, tolerance)\u001b[0m\n\u001b[1;32m   2133\u001b[0m             \u001b[1;32mtry\u001b[0m\u001b[1;33m:\u001b[0m\u001b[1;33m\u001b[0m\u001b[0m\n\u001b[0;32m-> 2134\u001b[0;31m                 \u001b[1;32mreturn\u001b[0m \u001b[0mself\u001b[0m\u001b[1;33m.\u001b[0m\u001b[0m_engine\u001b[0m\u001b[1;33m.\u001b[0m\u001b[0mget_loc\u001b[0m\u001b[1;33m(\u001b[0m\u001b[0mkey\u001b[0m\u001b[1;33m)\u001b[0m\u001b[1;33m\u001b[0m\u001b[0m\n\u001b[0m\u001b[1;32m   2135\u001b[0m             \u001b[1;32mexcept\u001b[0m \u001b[0mKeyError\u001b[0m\u001b[1;33m:\u001b[0m\u001b[1;33m\u001b[0m\u001b[0m\n",
      "\u001b[0;32mpandas\\index.pyx\u001b[0m in \u001b[0;36mpandas.index.IndexEngine.get_loc (pandas\\index.c:4443)\u001b[0;34m()\u001b[0m\n",
      "\u001b[0;32mpandas\\index.pyx\u001b[0m in \u001b[0;36mpandas.index.IndexEngine.get_loc (pandas\\index.c:4289)\u001b[0;34m()\u001b[0m\n",
      "\u001b[0;32mpandas\\src\\hashtable_class_helper.pxi\u001b[0m in \u001b[0;36mpandas.hashtable.PyObjectHashTable.get_item (pandas\\hashtable.c:13733)\u001b[0;34m()\u001b[0m\n",
      "\u001b[0;32mpandas\\src\\hashtable_class_helper.pxi\u001b[0m in \u001b[0;36mpandas.hashtable.PyObjectHashTable.get_item (pandas\\hashtable.c:13687)\u001b[0;34m()\u001b[0m\n",
      "\u001b[0;31mKeyError\u001b[0m: 'gaogaen'",
      "\nDuring handling of the above exception, another exception occurred:\n",
      "\u001b[0;31mKeyError\u001b[0m                                  Traceback (most recent call last)",
      "\u001b[0;32m<ipython-input-181-a15a1059baa2>\u001b[0m in \u001b[0;36m<module>\u001b[0;34m()\u001b[0m\n\u001b[1;32m      2\u001b[0m \u001b[0mprint\u001b[0m\u001b[1;33m(\u001b[0m\u001b[0mweaks\u001b[0m\u001b[1;33m(\u001b[0m\u001b[1;34m\"gaburiasu\"\u001b[0m\u001b[1;33m)\u001b[0m\u001b[1;33m)\u001b[0m\u001b[1;33m\u001b[0m\u001b[0m\n\u001b[1;32m      3\u001b[0m \u001b[0mprint\u001b[0m\u001b[1;33m(\u001b[0m\u001b[0mweaks\u001b[0m\u001b[1;33m(\u001b[0m\u001b[1;34m\"kokeko\"\u001b[0m\u001b[1;33m)\u001b[0m\u001b[1;33m)\u001b[0m\u001b[1;33m\u001b[0m\u001b[0m\n\u001b[0;32m----> 4\u001b[0;31m \u001b[0mprint\u001b[0m\u001b[1;33m(\u001b[0m\u001b[0mweaks\u001b[0m\u001b[1;33m(\u001b[0m\u001b[1;34m\"gaogaen\"\u001b[0m\u001b[1;33m)\u001b[0m\u001b[1;33m)\u001b[0m\u001b[1;33m\u001b[0m\u001b[0m\n\u001b[0m",
      "\u001b[0;32m<ipython-input-180-d140c46cab4b>\u001b[0m in \u001b[0;36mweaks\u001b[0;34m(poke)\u001b[0m\n\u001b[1;32m     26\u001b[0m \u001b[1;33m\u001b[0m\u001b[0m\n\u001b[1;32m     27\u001b[0m \u001b[1;32mdef\u001b[0m \u001b[0mweaks\u001b[0m\u001b[1;33m(\u001b[0m\u001b[0mpoke\u001b[0m\u001b[1;33m)\u001b[0m\u001b[1;33m:\u001b[0m\u001b[1;33m\u001b[0m\u001b[0m\n\u001b[0;32m---> 28\u001b[0;31m     \u001b[1;32mreturn\u001b[0m \u001b[0mpokemon\u001b[0m\u001b[1;33m[\u001b[0m\u001b[0mpoke\u001b[0m\u001b[1;33m]\u001b[0m\u001b[1;33m\u001b[0m\u001b[0m\n\u001b[0m\u001b[1;32m     29\u001b[0m \u001b[1;33m\u001b[0m\u001b[0m\n\u001b[1;32m     30\u001b[0m \u001b[1;31m#ギルガルドが対応できるポケモンを一覧する。\u001b[0m\u001b[1;33m\u001b[0m\u001b[1;33m\u001b[0m\u001b[0m\n",
      "\u001b[0;32mc:\\users\\owner\\appdata\\local\\programs\\python\\python35-32\\lib\\site-packages\\pandas\\core\\frame.py\u001b[0m in \u001b[0;36m__getitem__\u001b[0;34m(self, key)\u001b[0m\n\u001b[1;32m   2057\u001b[0m             \u001b[1;32mreturn\u001b[0m \u001b[0mself\u001b[0m\u001b[1;33m.\u001b[0m\u001b[0m_getitem_multilevel\u001b[0m\u001b[1;33m(\u001b[0m\u001b[0mkey\u001b[0m\u001b[1;33m)\u001b[0m\u001b[1;33m\u001b[0m\u001b[0m\n\u001b[1;32m   2058\u001b[0m         \u001b[1;32melse\u001b[0m\u001b[1;33m:\u001b[0m\u001b[1;33m\u001b[0m\u001b[0m\n\u001b[0;32m-> 2059\u001b[0;31m             \u001b[1;32mreturn\u001b[0m \u001b[0mself\u001b[0m\u001b[1;33m.\u001b[0m\u001b[0m_getitem_column\u001b[0m\u001b[1;33m(\u001b[0m\u001b[0mkey\u001b[0m\u001b[1;33m)\u001b[0m\u001b[1;33m\u001b[0m\u001b[0m\n\u001b[0m\u001b[1;32m   2060\u001b[0m \u001b[1;33m\u001b[0m\u001b[0m\n\u001b[1;32m   2061\u001b[0m     \u001b[1;32mdef\u001b[0m \u001b[0m_getitem_column\u001b[0m\u001b[1;33m(\u001b[0m\u001b[0mself\u001b[0m\u001b[1;33m,\u001b[0m \u001b[0mkey\u001b[0m\u001b[1;33m)\u001b[0m\u001b[1;33m:\u001b[0m\u001b[1;33m\u001b[0m\u001b[0m\n",
      "\u001b[0;32mc:\\users\\owner\\appdata\\local\\programs\\python\\python35-32\\lib\\site-packages\\pandas\\core\\frame.py\u001b[0m in \u001b[0;36m_getitem_column\u001b[0;34m(self, key)\u001b[0m\n\u001b[1;32m   2064\u001b[0m         \u001b[1;31m# get column\u001b[0m\u001b[1;33m\u001b[0m\u001b[1;33m\u001b[0m\u001b[0m\n\u001b[1;32m   2065\u001b[0m         \u001b[1;32mif\u001b[0m \u001b[0mself\u001b[0m\u001b[1;33m.\u001b[0m\u001b[0mcolumns\u001b[0m\u001b[1;33m.\u001b[0m\u001b[0mis_unique\u001b[0m\u001b[1;33m:\u001b[0m\u001b[1;33m\u001b[0m\u001b[0m\n\u001b[0;32m-> 2066\u001b[0;31m             \u001b[1;32mreturn\u001b[0m \u001b[0mself\u001b[0m\u001b[1;33m.\u001b[0m\u001b[0m_get_item_cache\u001b[0m\u001b[1;33m(\u001b[0m\u001b[0mkey\u001b[0m\u001b[1;33m)\u001b[0m\u001b[1;33m\u001b[0m\u001b[0m\n\u001b[0m\u001b[1;32m   2067\u001b[0m \u001b[1;33m\u001b[0m\u001b[0m\n\u001b[1;32m   2068\u001b[0m         \u001b[1;31m# duplicate columns & possible reduce dimensionality\u001b[0m\u001b[1;33m\u001b[0m\u001b[1;33m\u001b[0m\u001b[0m\n",
      "\u001b[0;32mc:\\users\\owner\\appdata\\local\\programs\\python\\python35-32\\lib\\site-packages\\pandas\\core\\generic.py\u001b[0m in \u001b[0;36m_get_item_cache\u001b[0;34m(self, item)\u001b[0m\n\u001b[1;32m   1384\u001b[0m         \u001b[0mres\u001b[0m \u001b[1;33m=\u001b[0m \u001b[0mcache\u001b[0m\u001b[1;33m.\u001b[0m\u001b[0mget\u001b[0m\u001b[1;33m(\u001b[0m\u001b[0mitem\u001b[0m\u001b[1;33m)\u001b[0m\u001b[1;33m\u001b[0m\u001b[0m\n\u001b[1;32m   1385\u001b[0m         \u001b[1;32mif\u001b[0m \u001b[0mres\u001b[0m \u001b[1;32mis\u001b[0m \u001b[1;32mNone\u001b[0m\u001b[1;33m:\u001b[0m\u001b[1;33m\u001b[0m\u001b[0m\n\u001b[0;32m-> 1386\u001b[0;31m             \u001b[0mvalues\u001b[0m \u001b[1;33m=\u001b[0m \u001b[0mself\u001b[0m\u001b[1;33m.\u001b[0m\u001b[0m_data\u001b[0m\u001b[1;33m.\u001b[0m\u001b[0mget\u001b[0m\u001b[1;33m(\u001b[0m\u001b[0mitem\u001b[0m\u001b[1;33m)\u001b[0m\u001b[1;33m\u001b[0m\u001b[0m\n\u001b[0m\u001b[1;32m   1387\u001b[0m             \u001b[0mres\u001b[0m \u001b[1;33m=\u001b[0m \u001b[0mself\u001b[0m\u001b[1;33m.\u001b[0m\u001b[0m_box_item_values\u001b[0m\u001b[1;33m(\u001b[0m\u001b[0mitem\u001b[0m\u001b[1;33m,\u001b[0m \u001b[0mvalues\u001b[0m\u001b[1;33m)\u001b[0m\u001b[1;33m\u001b[0m\u001b[0m\n\u001b[1;32m   1388\u001b[0m             \u001b[0mcache\u001b[0m\u001b[1;33m[\u001b[0m\u001b[0mitem\u001b[0m\u001b[1;33m]\u001b[0m \u001b[1;33m=\u001b[0m \u001b[0mres\u001b[0m\u001b[1;33m\u001b[0m\u001b[0m\n",
      "\u001b[0;32mc:\\users\\owner\\appdata\\local\\programs\\python\\python35-32\\lib\\site-packages\\pandas\\core\\internals.py\u001b[0m in \u001b[0;36mget\u001b[0;34m(self, item, fastpath)\u001b[0m\n\u001b[1;32m   3539\u001b[0m \u001b[1;33m\u001b[0m\u001b[0m\n\u001b[1;32m   3540\u001b[0m             \u001b[1;32mif\u001b[0m \u001b[1;32mnot\u001b[0m \u001b[0misnull\u001b[0m\u001b[1;33m(\u001b[0m\u001b[0mitem\u001b[0m\u001b[1;33m)\u001b[0m\u001b[1;33m:\u001b[0m\u001b[1;33m\u001b[0m\u001b[0m\n\u001b[0;32m-> 3541\u001b[0;31m                 \u001b[0mloc\u001b[0m \u001b[1;33m=\u001b[0m \u001b[0mself\u001b[0m\u001b[1;33m.\u001b[0m\u001b[0mitems\u001b[0m\u001b[1;33m.\u001b[0m\u001b[0mget_loc\u001b[0m\u001b[1;33m(\u001b[0m\u001b[0mitem\u001b[0m\u001b[1;33m)\u001b[0m\u001b[1;33m\u001b[0m\u001b[0m\n\u001b[0m\u001b[1;32m   3542\u001b[0m             \u001b[1;32melse\u001b[0m\u001b[1;33m:\u001b[0m\u001b[1;33m\u001b[0m\u001b[0m\n\u001b[1;32m   3543\u001b[0m                 \u001b[0mindexer\u001b[0m \u001b[1;33m=\u001b[0m \u001b[0mnp\u001b[0m\u001b[1;33m.\u001b[0m\u001b[0marange\u001b[0m\u001b[1;33m(\u001b[0m\u001b[0mlen\u001b[0m\u001b[1;33m(\u001b[0m\u001b[0mself\u001b[0m\u001b[1;33m.\u001b[0m\u001b[0mitems\u001b[0m\u001b[1;33m)\u001b[0m\u001b[1;33m)\u001b[0m\u001b[1;33m[\u001b[0m\u001b[0misnull\u001b[0m\u001b[1;33m(\u001b[0m\u001b[0mself\u001b[0m\u001b[1;33m.\u001b[0m\u001b[0mitems\u001b[0m\u001b[1;33m)\u001b[0m\u001b[1;33m]\u001b[0m\u001b[1;33m\u001b[0m\u001b[0m\n",
      "\u001b[0;32mc:\\users\\owner\\appdata\\local\\programs\\python\\python35-32\\lib\\site-packages\\pandas\\indexes\\base.py\u001b[0m in \u001b[0;36mget_loc\u001b[0;34m(self, key, method, tolerance)\u001b[0m\n\u001b[1;32m   2134\u001b[0m                 \u001b[1;32mreturn\u001b[0m \u001b[0mself\u001b[0m\u001b[1;33m.\u001b[0m\u001b[0m_engine\u001b[0m\u001b[1;33m.\u001b[0m\u001b[0mget_loc\u001b[0m\u001b[1;33m(\u001b[0m\u001b[0mkey\u001b[0m\u001b[1;33m)\u001b[0m\u001b[1;33m\u001b[0m\u001b[0m\n\u001b[1;32m   2135\u001b[0m             \u001b[1;32mexcept\u001b[0m \u001b[0mKeyError\u001b[0m\u001b[1;33m:\u001b[0m\u001b[1;33m\u001b[0m\u001b[0m\n\u001b[0;32m-> 2136\u001b[0;31m                 \u001b[1;32mreturn\u001b[0m \u001b[0mself\u001b[0m\u001b[1;33m.\u001b[0m\u001b[0m_engine\u001b[0m\u001b[1;33m.\u001b[0m\u001b[0mget_loc\u001b[0m\u001b[1;33m(\u001b[0m\u001b[0mself\u001b[0m\u001b[1;33m.\u001b[0m\u001b[0m_maybe_cast_indexer\u001b[0m\u001b[1;33m(\u001b[0m\u001b[0mkey\u001b[0m\u001b[1;33m)\u001b[0m\u001b[1;33m)\u001b[0m\u001b[1;33m\u001b[0m\u001b[0m\n\u001b[0m\u001b[1;32m   2137\u001b[0m \u001b[1;33m\u001b[0m\u001b[0m\n\u001b[1;32m   2138\u001b[0m         \u001b[0mindexer\u001b[0m \u001b[1;33m=\u001b[0m \u001b[0mself\u001b[0m\u001b[1;33m.\u001b[0m\u001b[0mget_indexer\u001b[0m\u001b[1;33m(\u001b[0m\u001b[1;33m[\u001b[0m\u001b[0mkey\u001b[0m\u001b[1;33m]\u001b[0m\u001b[1;33m,\u001b[0m \u001b[0mmethod\u001b[0m\u001b[1;33m=\u001b[0m\u001b[0mmethod\u001b[0m\u001b[1;33m,\u001b[0m \u001b[0mtolerance\u001b[0m\u001b[1;33m=\u001b[0m\u001b[0mtolerance\u001b[0m\u001b[1;33m)\u001b[0m\u001b[1;33m\u001b[0m\u001b[0m\n",
      "\u001b[0;32mpandas\\index.pyx\u001b[0m in \u001b[0;36mpandas.index.IndexEngine.get_loc (pandas\\index.c:4443)\u001b[0;34m()\u001b[0m\n",
      "\u001b[0;32mpandas\\index.pyx\u001b[0m in \u001b[0;36mpandas.index.IndexEngine.get_loc (pandas\\index.c:4289)\u001b[0;34m()\u001b[0m\n",
      "\u001b[0;32mpandas\\src\\hashtable_class_helper.pxi\u001b[0m in \u001b[0;36mpandas.hashtable.PyObjectHashTable.get_item (pandas\\hashtable.c:13733)\u001b[0;34m()\u001b[0m\n",
      "\u001b[0;32mpandas\\src\\hashtable_class_helper.pxi\u001b[0m in \u001b[0;36mpandas.hashtable.PyObjectHashTable.get_item (pandas\\hashtable.c:13687)\u001b[0;34m()\u001b[0m\n",
      "\u001b[0;31mKeyError\u001b[0m: 'gaogaen'"
     ]
    }
   ],
   "source": [
    "print(weaks(\"gyaradosu\"))\n",
    "print(weaks(\"gaburiasu\"))\n",
    "print(weaks(\"kokeko\"))\n",
    "print(weaks(\"gaogaen\"))"
   ]
  },
  {
   "cell_type": "code",
   "execution_count": null,
   "metadata": {
    "collapsed": true
   },
   "outputs": [],
   "source": []
  }
 ],
 "metadata": {
  "anaconda-cloud": {},
  "kernelspec": {
   "display_name": "Python 3",
   "language": "python",
   "name": "python3"
  },
  "language_info": {
   "codemirror_mode": {
    "name": "ipython",
    "version": 3
   },
   "file_extension": ".py",
   "mimetype": "text/x-python",
   "name": "python",
   "nbconvert_exporter": "python",
   "pygments_lexer": "ipython3",
   "version": "3.5.2"
  }
 },
 "nbformat": 4,
 "nbformat_minor": 1
}
